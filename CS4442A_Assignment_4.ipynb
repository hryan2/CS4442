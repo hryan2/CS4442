{
  "cells": [
    {
      "cell_type": "markdown",
      "source": [
        "By: Ryan Howarth - 251109839\n",
        "Date: 2022-12-08"
      ],
      "metadata": {
        "id": "T-RPv36Ce3Lq"
      }
    },
    {
      "cell_type": "code",
      "execution_count": 128,
      "metadata": {
        "id": "zMilVt0gy19V"
      },
      "outputs": [],
      "source": [
        "#Imports\n",
        "import numpy as np\n",
        "import pandas as pd\n",
        "#!pip install torchvision\n",
        "import torch as to\n",
        "import torchvision as tv\n"
      ]
    },
    {
      "cell_type": "code",
      "execution_count": 129,
      "metadata": {
        "colab": {
          "base_uri": "https://localhost:8080/"
        },
        "id": "1lbqoxfKzFQo",
        "outputId": "5fa841d9-0df6-4cb2-b30f-60fe8b8563b9"
      },
      "outputs": [
        {
          "output_type": "stream",
          "name": "stdout",
          "text": [
            "Files already downloaded and verified\n",
            "Files already downloaded and verified\n",
            "Shape (Train and Val): 40000 10000\n",
            "Train Data: <torch.utils.data.dataset.Subset object at 0x7ff3f6be2580>\n",
            "Validation Data: <torch.utils.data.dataset.Subset object at 0x7ff3f60e9fd0>\n",
            "Test Data: Dataset CIFAR10\n",
            "    Number of datapoints: 10000\n",
            "    Root location: ./\n",
            "    Split: Test\n",
            "    StandardTransform\n",
            "Transform: Compose(\n",
            "               Resize(size=224, interpolation=bilinear, max_size=None, antialias=None)\n",
            "               ToTensor()\n",
            "               Normalize(mean=(0.5, 0.5, 0.5), std=(0.5, 0.5, 0.5))\n",
            "           )\n"
          ]
        },
        {
          "output_type": "execute_result",
          "data": {
            "text/plain": [
              "AlexNet(\n",
              "  (features): Sequential(\n",
              "    (0): Conv2d(3, 64, kernel_size=(11, 11), stride=(4, 4), padding=(2, 2))\n",
              "    (1): ReLU(inplace=True)\n",
              "    (2): MaxPool2d(kernel_size=3, stride=2, padding=0, dilation=1, ceil_mode=False)\n",
              "    (3): Conv2d(64, 192, kernel_size=(5, 5), stride=(1, 1), padding=(2, 2))\n",
              "    (4): ReLU(inplace=True)\n",
              "    (5): MaxPool2d(kernel_size=3, stride=2, padding=0, dilation=1, ceil_mode=False)\n",
              "    (6): Conv2d(192, 384, kernel_size=(3, 3), stride=(1, 1), padding=(1, 1))\n",
              "    (7): ReLU(inplace=True)\n",
              "    (8): Conv2d(384, 256, kernel_size=(3, 3), stride=(1, 1), padding=(1, 1))\n",
              "    (9): ReLU(inplace=True)\n",
              "    (10): Conv2d(256, 256, kernel_size=(3, 3), stride=(1, 1), padding=(1, 1))\n",
              "    (11): ReLU(inplace=True)\n",
              "    (12): MaxPool2d(kernel_size=3, stride=2, padding=0, dilation=1, ceil_mode=False)\n",
              "  )\n",
              "  (avgpool): AdaptiveAvgPool2d(output_size=(6, 6))\n",
              "  (classifier): Sequential(\n",
              "    (0): Dropout(p=0.5, inplace=False)\n",
              "    (1): Linear(in_features=9216, out_features=4096, bias=True)\n",
              "    (2): ReLU(inplace=True)\n",
              "    (3): Dropout(p=0.5, inplace=False)\n",
              "    (4): Linear(in_features=4096, out_features=4096, bias=True)\n",
              "    (5): ReLU(inplace=True)\n",
              "    (6): Linear(in_features=4096, out_features=1000, bias=True)\n",
              "  )\n",
              ")"
            ]
          },
          "metadata": {},
          "execution_count": 129
        }
      ],
      "source": [
        "#To increase the speed of the training\n",
        "device = to.device('cuda:0' if to.cuda.is_available() else 'cpu')\n",
        "\n",
        "#Setting up datasets\n",
        "transform = tv.transforms.Compose([tv.transforms.Resize(224), tv.transforms.ToTensor(), tv.transforms.Normalize((0.5, 0.5, 0.5), (0.5, 0.5, 0.5))])\n",
        "trainData = tv.datasets.CIFAR10('./', train = True, download = True, transform = transform)\n",
        "testData = tv.datasets.CIFAR10('./', train = False, download = True, transform = transform)\n",
        "trainData, valData = to.utils.data.random_split(trainData, [40000, 10000])\n",
        "print(f'Shape (Train and Val): {len(trainData)} {len(valData)}')\n",
        "\n",
        "\n",
        "#Setting up dataloaders\n",
        "trainLoad = to.utils.data.DataLoader(trainData, batch_size = 4, shuffle = True, num_workers = 2)\n",
        "valLoad = to.utils.data.DataLoader(valData, batch_size = 4, shuffle = True, num_workers = 2)\n",
        "testLoad = to.utils.data.DataLoader(testData, batch_size = 4, shuffle = False, num_workers = 2)\n",
        "print(f'Train Data: {trainData}\\nValidation Data: {valData}\\nTest Data: {testData}')\n",
        "\n",
        "alexnet = tv.models.alexnet(pretrained = True)\n",
        "alexnet.eval()\n",
        "alexnet.to(device)"
      ]
    },
    {
      "cell_type": "code",
      "execution_count": 130,
      "metadata": {
        "colab": {
          "base_uri": "https://localhost:8080/"
        },
        "id": "VfGJ2esjzIN1",
        "outputId": "6fe59e1b-eec0-440a-ecf5-ce00a9354a9b"
      },
      "outputs": [
        {
          "output_type": "stream",
          "name": "stdout",
          "text": [
            "[1,  2000] loss: 1.595\n",
            "[1,  4000] loss: 0.927\n",
            "[1,  6000] loss: 0.749\n",
            "[1,  8000] loss: 0.679\n",
            "[1, 10000] loss: 0.623\n",
            "The accuracy of the model after training/validation is: 81.53 %\n"
          ]
        }
      ],
      "source": [
        "#Question b\n",
        "#Training the model on the train data and validation data\n",
        "#Optimizer\n",
        "optim = to.optim.SGD(alexnet.parameters(), lr = 0.001, momentum = 0.9)\n",
        "#Loss\n",
        "criterion = to.nn.CrossEntropyLoss()\n",
        "\n",
        "runLoss = 0\n",
        "for i, data in enumerate(trainLoad, 0):\n",
        "    input, labels = data[0].to(device), data[1].to(device)\n",
        "\n",
        "    optim.zero_grad()\n",
        "\n",
        "    output = alexnet(input)\n",
        "    loss = criterion(output, labels)\n",
        "    loss.backward()\n",
        "    optim.step()\n",
        "        \n",
        "    runLoss += loss.item()\n",
        "    if i % 2000 == 1999:\n",
        "        print(f'[{1}, {i + 1:5d}] loss: {runLoss / 2000:.3f}')\n",
        "        runLoss = 0.0\n",
        "  \n",
        "correct = 0\n",
        "total = 0\n",
        "\n",
        "alexnet.eval()\n",
        "with to.no_grad():\n",
        "  for data in valLoad:\n",
        "    image, label = data[0].to(device), data[1].to(device)\n",
        "\n",
        "    output = alexnet(image)\n",
        "\n",
        "    _, pred = to.max(output.data, 1)\n",
        "    total += label.size(0)\n",
        "    correct += (pred == label).sum().item()\n",
        "\n",
        "print(f'The accuracy of the model after training/validation is: {(correct / total) * 100} %')"
      ]
    },
    {
      "cell_type": "code",
      "source": [
        "#Testing the model on the test data\n",
        "correct = 0\n",
        "total = 0\n",
        "indice = []\n",
        "testLabels = []\n",
        "\n",
        "alexnet.eval()\n",
        "with to.no_grad():\n",
        "  for data in testLoad:\n",
        "    image, label = data[0].to(device), data[1].to(device)\n",
        "\n",
        "    output = alexnet(image)\n",
        "\n",
        "    _, pred = to.max(output.data, 1)\n",
        "    total += label.size(0)\n",
        "    correct += (pred == label).sum().item()\n",
        "    indice.append(pred[0].cpu().numpy())\n",
        "    testLabels.append(label[0].cpu().numpy())\n",
        "\n",
        "print(f'The accuracy of the model after testing is: {(correct / total) * 100} %')"
      ],
      "metadata": {
        "colab": {
          "base_uri": "https://localhost:8080/"
        },
        "id": "Gmny57x99tZx",
        "outputId": "355c575b-4cba-4eed-bf3d-923e51ff5f95"
      },
      "execution_count": 131,
      "outputs": [
        {
          "output_type": "stream",
          "name": "stdout",
          "text": [
            "The accuracy of the model after testing is: 81.52000000000001 %\n"
          ]
        }
      ]
    },
    {
      "cell_type": "code",
      "execution_count": 132,
      "metadata": {
        "id": "kAdzM3JAzyFa",
        "colab": {
          "base_uri": "https://localhost:8080/",
          "height": 206
        },
        "outputId": "0a61061d-9a74-4ee6-c2f2-84663d275d17"
      },
      "outputs": [
        {
          "output_type": "execute_result",
          "data": {
            "text/plain": [
              "                   0\n",
              "0              tench\n",
              "1           goldfish\n",
              "2  great white shark\n",
              "3        tiger shark\n",
              "4         hammerhead"
            ],
            "text/html": [
              "\n",
              "  <div id=\"df-3ae7aa89-c140-4ffc-943e-13a672d1b601\">\n",
              "    <div class=\"colab-df-container\">\n",
              "      <div>\n",
              "<style scoped>\n",
              "    .dataframe tbody tr th:only-of-type {\n",
              "        vertical-align: middle;\n",
              "    }\n",
              "\n",
              "    .dataframe tbody tr th {\n",
              "        vertical-align: top;\n",
              "    }\n",
              "\n",
              "    .dataframe thead th {\n",
              "        text-align: right;\n",
              "    }\n",
              "</style>\n",
              "<table border=\"1\" class=\"dataframe\">\n",
              "  <thead>\n",
              "    <tr style=\"text-align: right;\">\n",
              "      <th></th>\n",
              "      <th>0</th>\n",
              "    </tr>\n",
              "  </thead>\n",
              "  <tbody>\n",
              "    <tr>\n",
              "      <th>0</th>\n",
              "      <td>tench</td>\n",
              "    </tr>\n",
              "    <tr>\n",
              "      <th>1</th>\n",
              "      <td>goldfish</td>\n",
              "    </tr>\n",
              "    <tr>\n",
              "      <th>2</th>\n",
              "      <td>great white shark</td>\n",
              "    </tr>\n",
              "    <tr>\n",
              "      <th>3</th>\n",
              "      <td>tiger shark</td>\n",
              "    </tr>\n",
              "    <tr>\n",
              "      <th>4</th>\n",
              "      <td>hammerhead</td>\n",
              "    </tr>\n",
              "  </tbody>\n",
              "</table>\n",
              "</div>\n",
              "      <button class=\"colab-df-convert\" onclick=\"convertToInteractive('df-3ae7aa89-c140-4ffc-943e-13a672d1b601')\"\n",
              "              title=\"Convert this dataframe to an interactive table.\"\n",
              "              style=\"display:none;\">\n",
              "        \n",
              "  <svg xmlns=\"http://www.w3.org/2000/svg\" height=\"24px\"viewBox=\"0 0 24 24\"\n",
              "       width=\"24px\">\n",
              "    <path d=\"M0 0h24v24H0V0z\" fill=\"none\"/>\n",
              "    <path d=\"M18.56 5.44l.94 2.06.94-2.06 2.06-.94-2.06-.94-.94-2.06-.94 2.06-2.06.94zm-11 1L8.5 8.5l.94-2.06 2.06-.94-2.06-.94L8.5 2.5l-.94 2.06-2.06.94zm10 10l.94 2.06.94-2.06 2.06-.94-2.06-.94-.94-2.06-.94 2.06-2.06.94z\"/><path d=\"M17.41 7.96l-1.37-1.37c-.4-.4-.92-.59-1.43-.59-.52 0-1.04.2-1.43.59L10.3 9.45l-7.72 7.72c-.78.78-.78 2.05 0 2.83L4 21.41c.39.39.9.59 1.41.59.51 0 1.02-.2 1.41-.59l7.78-7.78 2.81-2.81c.8-.78.8-2.07 0-2.86zM5.41 20L4 18.59l7.72-7.72 1.47 1.35L5.41 20z\"/>\n",
              "  </svg>\n",
              "      </button>\n",
              "      \n",
              "  <style>\n",
              "    .colab-df-container {\n",
              "      display:flex;\n",
              "      flex-wrap:wrap;\n",
              "      gap: 12px;\n",
              "    }\n",
              "\n",
              "    .colab-df-convert {\n",
              "      background-color: #E8F0FE;\n",
              "      border: none;\n",
              "      border-radius: 50%;\n",
              "      cursor: pointer;\n",
              "      display: none;\n",
              "      fill: #1967D2;\n",
              "      height: 32px;\n",
              "      padding: 0 0 0 0;\n",
              "      width: 32px;\n",
              "    }\n",
              "\n",
              "    .colab-df-convert:hover {\n",
              "      background-color: #E2EBFA;\n",
              "      box-shadow: 0px 1px 2px rgba(60, 64, 67, 0.3), 0px 1px 3px 1px rgba(60, 64, 67, 0.15);\n",
              "      fill: #174EA6;\n",
              "    }\n",
              "\n",
              "    [theme=dark] .colab-df-convert {\n",
              "      background-color: #3B4455;\n",
              "      fill: #D2E3FC;\n",
              "    }\n",
              "\n",
              "    [theme=dark] .colab-df-convert:hover {\n",
              "      background-color: #434B5C;\n",
              "      box-shadow: 0px 1px 3px 1px rgba(0, 0, 0, 0.15);\n",
              "      filter: drop-shadow(0px 1px 2px rgba(0, 0, 0, 0.3));\n",
              "      fill: #FFFFFF;\n",
              "    }\n",
              "  </style>\n",
              "\n",
              "      <script>\n",
              "        const buttonEl =\n",
              "          document.querySelector('#df-3ae7aa89-c140-4ffc-943e-13a672d1b601 button.colab-df-convert');\n",
              "        buttonEl.style.display =\n",
              "          google.colab.kernel.accessAllowed ? 'block' : 'none';\n",
              "\n",
              "        async function convertToInteractive(key) {\n",
              "          const element = document.querySelector('#df-3ae7aa89-c140-4ffc-943e-13a672d1b601');\n",
              "          const dataTable =\n",
              "            await google.colab.kernel.invokeFunction('convertToInteractive',\n",
              "                                                     [key], {});\n",
              "          if (!dataTable) return;\n",
              "\n",
              "          const docLinkHtml = 'Like what you see? Visit the ' +\n",
              "            '<a target=\"_blank\" href=https://colab.research.google.com/notebooks/data_table.ipynb>data table notebook</a>'\n",
              "            + ' to learn more about interactive tables.';\n",
              "          element.innerHTML = '';\n",
              "          dataTable['output_type'] = 'display_data';\n",
              "          await google.colab.output.renderOutput(dataTable, element);\n",
              "          const docLink = document.createElement('div');\n",
              "          docLink.innerHTML = docLinkHtml;\n",
              "          element.appendChild(docLink);\n",
              "        }\n",
              "      </script>\n",
              "    </div>\n",
              "  </div>\n",
              "  "
            ]
          },
          "metadata": {},
          "execution_count": 132
        }
      ],
      "source": [
        "#Getting imageNet classes\n",
        "imageNetClasses = pd.read_csv('https://raw.githubusercontent.com/pytorch/hub/master/imagenet_classes.txt', header = None)\n",
        "imageNetClasses.head()"
      ]
    },
    {
      "cell_type": "code",
      "execution_count": 133,
      "metadata": {
        "id": "IX0nWerm4CmQ",
        "colab": {
          "base_uri": "https://localhost:8080/",
          "height": 557
        },
        "outputId": "681f056e-58df-4bfb-cc83-e99142c84644"
      },
      "outputs": [
        {
          "output_type": "stream",
          "name": "stdout",
          "text": [
            "301               ladybug\n",
            "240           Appenzeller\n",
            "245        French bulldog\n",
            "263              Pembroke\n",
            "214         Gordon setter\n",
            "237    miniature pinscher\n",
            "292                 tiger\n",
            "225              malinois\n",
            "240           Appenzeller\n",
            "243          bull mastiff\n",
            "Name: 0, dtype: object\n"
          ]
        },
        {
          "output_type": "execute_result",
          "data": {
            "text/plain": [
              "<matplotlib.axes._subplots.AxesSubplot at 0x7ff4dac04910>"
            ]
          },
          "metadata": {},
          "execution_count": 133
        },
        {
          "output_type": "display_data",
          "data": {
            "text/plain": [
              "<Figure size 432x288 with 2 Axes>"
            ],
            "image/png": "[encoded data removed]"
          },
          "metadata": {
            "needs_background": "light"
          }
        }
      ],
      "source": [
        "#Constructing the confusion matrix\n",
        "from sklearn.metrics import confusion_matrix\n",
        "#from Collections import Counter\n",
        "import seaborn as sns\n",
        "\n",
        "classes = [\"airplane\", \"automobile\", \"bird\", \"cat\", \"deer\", \"dog\", \"frog\", \"horse\", \"ship\", \"truck\"]\n",
        "\n",
        "#Getting the most frequent imagenet classes\n",
        "frequentIndice = np.bincount(indice, minlength = 10)\n",
        "imageNetFreq = imageNetClasses[0][frequentIndice]\n",
        "print(imageNetFreq)\n",
        "\n",
        "#Constructing confusion matrix\n",
        "confusionMatrix = confusion_matrix(indice, testLabels)\n",
        "sns.heatmap(confusionMatrix, xticklabels = imageNetFreq, yticklabels = classes)"
      ]
    },
    {
      "cell_type": "code",
      "source": [
        "#Question c\n",
        "#Getting the fc6 layer model\n",
        "alexnetFC6 = tv.models.alexnet(pretrained = True)\n",
        "alexnetFC6.classifier = alexnet.classifier[:-5]\n",
        "alexnetFC6.eval()\n",
        "alexnetFC6.to(device)"
      ],
      "metadata": {
        "colab": {
          "base_uri": "https://localhost:8080/"
        },
        "id": "-soThJ7ska2d",
        "outputId": "9c96f088-34ef-4fea-db67-b69abc793872"
      },
      "execution_count": 134,
      "outputs": [
        {
          "output_type": "stream",
          "name": "stderr",
          "text": [
            "/usr/local/lib/python3.8/dist-packages/torchvision/models/_utils.py:208: UserWarning: The parameter 'pretrained' is deprecated since 0.13 and may be removed in the future, please use 'weights' instead.\n",
            "  warnings.warn(\n",
            "/usr/local/lib/python3.8/dist-packages/torchvision/models/_utils.py:223: UserWarning: Arguments other than a weight enum or `None` for 'weights' are deprecated since 0.13 and may be removed in the future. The current behavior is equivalent to passing `weights=AlexNet_Weights.IMAGENET1K_V1`. You can also use `weights=AlexNet_Weights.DEFAULT` to get the most up-to-date weights.\n",
            "  warnings.warn(msg)\n"
          ]
        },
        {
          "output_type": "execute_result",
          "data": {
            "text/plain": [
              "AlexNet(\n",
              "  (features): Sequential(\n",
              "    (0): Conv2d(3, 64, kernel_size=(11, 11), stride=(4, 4), padding=(2, 2))\n",
              "    (1): ReLU(inplace=True)\n",
              "    (2): MaxPool2d(kernel_size=3, stride=2, padding=0, dilation=1, ceil_mode=False)\n",
              "    (3): Conv2d(64, 192, kernel_size=(5, 5), stride=(1, 1), padding=(2, 2))\n",
              "    (4): ReLU(inplace=True)\n",
              "    (5): MaxPool2d(kernel_size=3, stride=2, padding=0, dilation=1, ceil_mode=False)\n",
              "    (6): Conv2d(192, 384, kernel_size=(3, 3), stride=(1, 1), padding=(1, 1))\n",
              "    (7): ReLU(inplace=True)\n",
              "    (8): Conv2d(384, 256, kernel_size=(3, 3), stride=(1, 1), padding=(1, 1))\n",
              "    (9): ReLU(inplace=True)\n",
              "    (10): Conv2d(256, 256, kernel_size=(3, 3), stride=(1, 1), padding=(1, 1))\n",
              "    (11): ReLU(inplace=True)\n",
              "    (12): MaxPool2d(kernel_size=3, stride=2, padding=0, dilation=1, ceil_mode=False)\n",
              "  )\n",
              "  (avgpool): AdaptiveAvgPool2d(output_size=(6, 6))\n",
              "  (classifier): Sequential(\n",
              "    (0): Dropout(p=0.5, inplace=False)\n",
              "    (1): Linear(in_features=9216, out_features=4096, bias=True)\n",
              "  )\n",
              ")"
            ]
          },
          "metadata": {},
          "execution_count": 134
        }
      ]
    },
    {
      "cell_type": "code",
      "source": [
        "#Training the model with training data using fc6 layer\n",
        "#Optimizer\n",
        "optim = to.optim.SGD(alexnetFC6.parameters(), lr = 0.001, momentum = 0.9)\n",
        "#Loss\n",
        "criterion = to.nn.CrossEntropyLoss()\n",
        "\n",
        "trainOutput = []\n",
        "trainLabels = []\n",
        "runLoss = 0\n",
        "for i, data in enumerate(trainLoad, 0):\n",
        "    input, labels = data[0].to(device), data[1].to(device)\n",
        "\n",
        "    optim.zero_grad()\n",
        "\n",
        "    output = alexnetFC6(input)\n",
        "    trainOutput.append(output[0].detach().cpu().numpy())\n",
        "    trainLabels.append(labels[0].detach().cpu().numpy())\n",
        "    loss = criterion(output, labels)\n",
        "    loss.backward()\n",
        "    optim.step()\n",
        "        \n",
        "    runLoss += loss.item()\n",
        "    if i % 2000 == 1999:\n",
        "        print(f'[{1}, {i + 1:5d}] loss: {runLoss / 2000:.3f}')\n",
        "        runLoss = 0.0"
      ],
      "metadata": {
        "colab": {
          "base_uri": "https://localhost:8080/"
        },
        "id": "bF_6Xyj3kCJH",
        "outputId": "6d4dbda1-b382-4896-bc94-4ee8037ae679"
      },
      "execution_count": 145,
      "outputs": [
        {
          "output_type": "stream",
          "name": "stdout",
          "text": [
            "[1,  2000] loss: 0.600\n",
            "[1,  4000] loss: 0.605\n",
            "[1,  6000] loss: 0.615\n",
            "[1,  8000] loss: 0.626\n",
            "[1, 10000] loss: 0.574\n"
          ]
        }
      ]
    },
    {
      "cell_type": "code",
      "source": [
        "#Validation data training\n",
        "correct = 0\n",
        "total = 0\n",
        "valOutput = []\n",
        "valLabels = []\n",
        "\n",
        "alexnetFC6.eval()\n",
        "with to.no_grad():\n",
        "  for data in valLoad:\n",
        "    image, label = data[0].to(device), data[1].to(device)\n",
        "\n",
        "    output = alexnetFC6(image)\n",
        "    valOutput.append(output[0].cpu().numpy())\n",
        "    valLabels.append(labels[0].cpu().numpy())\n",
        "\n",
        "    _, pred = to.max(output.data, 1)\n",
        "    total += label.size(0)\n",
        "    correct += (pred == label).sum().item()\n",
        "\n",
        "print(f'The accuracy of the model after training/validation is: {(correct / total) * 100} %')"
      ],
      "metadata": {
        "colab": {
          "base_uri": "https://localhost:8080/"
        },
        "id": "q0Ak4RPR-iXc",
        "outputId": "c6cdc6e2-90ab-4c74-eda9-4b0584855510"
      },
      "execution_count": 146,
      "outputs": [
        {
          "output_type": "stream",
          "name": "stdout",
          "text": [
            "The accuracy of the model after training/validation is: 78.01 %\n"
          ]
        }
      ]
    },
    {
      "cell_type": "code",
      "source": [
        "#Testing the model with the test data using fc6 layer\n",
        "correct = 0\n",
        "total = 0\n",
        "testOutput = []\n",
        "testLabels = []\n",
        "\n",
        "alexnetFC6.eval()\n",
        "with to.no_grad():\n",
        "  for data in testLoad:\n",
        "    image, label = data[0].to(device), data[1].to(device)\n",
        "\n",
        "    output = alexnetFC6(image)\n",
        "    testOutput.append(output[0].cpu().numpy())\n",
        "    testLabels.append(labels[0].cpu().numpy())\n",
        "\n",
        "    _, pred = to.max(output.data, 1)\n",
        "    total += label.size(0)\n",
        "    correct += (pred == label).sum().item()\n",
        "\n",
        "print(f'The accuracy of the model after testing is: {(correct / total) * 100} %')"
      ],
      "metadata": {
        "colab": {
          "base_uri": "https://localhost:8080/"
        },
        "id": "v3E56QGukh5G",
        "outputId": "5763aca2-5d47-45de-a9d3-6698b8d47980"
      },
      "execution_count": 137,
      "outputs": [
        {
          "output_type": "stream",
          "name": "stdout",
          "text": [
            "The accuracy of the model after testing is: 75.82 %\n"
          ]
        }
      ]
    },
    {
      "cell_type": "code",
      "source": [
        "#Training a logistic regression\n",
        "from sklearn.model_selection import train_test_split\n",
        "from sklearn.linear_model import LogisticRegression\n",
        "\n",
        "#Creating the Logistic Regression\n",
        "xtrain, xtest, ytrain, ytest = train_test_split((trainOutput + valOutput), (trainLabels + valLabels), test_size = 0.2, random_state = 0)\n",
        "logReg6 = LogisticRegression().fit(xtrain, ytrain)\n",
        "fc6Pred = logReg6.predict(xtest)\n",
        "\n",
        "#Printing Scores\n",
        "conFC6 = confusion_matrix(ytest, fc6Pred)\n",
        "sns.heatmap(conFC6, xticklabels = classes, yticklabels = classes)\n",
        "print(f'Accuracy Score (With all the train data): {logReg6.score(xtest, ytest)}')\n",
        "print(f'Accuracy Score (With all the test data): {logReg6.score(testOutput, testLabels)}')"
      ],
      "metadata": {
        "id": "mfEi9WGXksVV",
        "colab": {
          "base_uri": "https://localhost:8080/",
          "height": 505
        },
        "outputId": "64df7549-ec17-428a-ae87-364d5cab6f80"
      },
      "execution_count": 147,
      "outputs": [
        {
          "output_type": "stream",
          "name": "stderr",
          "text": [
            "/usr/local/lib/python3.8/dist-packages/sklearn/linear_model/_logistic.py:814: ConvergenceWarning: lbfgs failed to converge (status=1):\n",
            "STOP: TOTAL NO. of ITERATIONS REACHED LIMIT.\n",
            "\n",
            "Increase the number of iterations (max_iter) or scale the data as shown in:\n",
            "    https://scikit-learn.org/stable/modules/preprocessing.html\n",
            "Please also refer to the documentation for alternative solver options:\n",
            "    https://scikit-learn.org/stable/modules/linear_model.html#logistic-regression\n",
            "  n_iter_i = _check_optimize_result(\n"
          ]
        },
        {
          "output_type": "stream",
          "name": "stdout",
          "text": [
            "Accuracy Score (With all the train data): 0.7896\n",
            "Accuracy Score (With all the test data): 0.424\n"
          ]
        },
        {
          "output_type": "display_data",
          "data": {
            "text/plain": [
              "<Figure size 432x288 with 2 Axes>"
            ],
            "image/png": "[encoded data removed]"
          },
          "metadata": {
            "needs_background": "light"
          }
        }
      ]
    },
    {
      "cell_type": "code",
      "source": [
        "#Question d\n",
        "#Getting the fc7 layer model\n",
        "alexnetFC7 = tv.models.alexnet(pretrained = True)\n",
        "alexnetFC7.classifier = alexnet.classifier[:-1]\n",
        "alexnetFC7.eval()\n",
        "alexnetFC7.to(device)"
      ],
      "metadata": {
        "colab": {
          "base_uri": "https://localhost:8080/"
        },
        "id": "xfLx-2Tzc37D",
        "outputId": "41982b90-c297-4d9e-cd3c-4dab1921b702"
      },
      "execution_count": 148,
      "outputs": [
        {
          "output_type": "stream",
          "name": "stderr",
          "text": [
            "/usr/local/lib/python3.8/dist-packages/torchvision/models/_utils.py:208: UserWarning: The parameter 'pretrained' is deprecated since 0.13 and may be removed in the future, please use 'weights' instead.\n",
            "  warnings.warn(\n",
            "/usr/local/lib/python3.8/dist-packages/torchvision/models/_utils.py:223: UserWarning: Arguments other than a weight enum or `None` for 'weights' are deprecated since 0.13 and may be removed in the future. The current behavior is equivalent to passing `weights=AlexNet_Weights.IMAGENET1K_V1`. You can also use `weights=AlexNet_Weights.DEFAULT` to get the most up-to-date weights.\n",
            "  warnings.warn(msg)\n"
          ]
        },
        {
          "output_type": "execute_result",
          "data": {
            "text/plain": [
              "AlexNet(\n",
              "  (features): Sequential(\n",
              "    (0): Conv2d(3, 64, kernel_size=(11, 11), stride=(4, 4), padding=(2, 2))\n",
              "    (1): ReLU(inplace=True)\n",
              "    (2): MaxPool2d(kernel_size=3, stride=2, padding=0, dilation=1, ceil_mode=False)\n",
              "    (3): Conv2d(64, 192, kernel_size=(5, 5), stride=(1, 1), padding=(2, 2))\n",
              "    (4): ReLU(inplace=True)\n",
              "    (5): MaxPool2d(kernel_size=3, stride=2, padding=0, dilation=1, ceil_mode=False)\n",
              "    (6): Conv2d(192, 384, kernel_size=(3, 3), stride=(1, 1), padding=(1, 1))\n",
              "    (7): ReLU(inplace=True)\n",
              "    (8): Conv2d(384, 256, kernel_size=(3, 3), stride=(1, 1), padding=(1, 1))\n",
              "    (9): ReLU(inplace=True)\n",
              "    (10): Conv2d(256, 256, kernel_size=(3, 3), stride=(1, 1), padding=(1, 1))\n",
              "    (11): ReLU(inplace=True)\n",
              "    (12): MaxPool2d(kernel_size=3, stride=2, padding=0, dilation=1, ceil_mode=False)\n",
              "  )\n",
              "  (avgpool): AdaptiveAvgPool2d(output_size=(6, 6))\n",
              "  (classifier): Sequential(\n",
              "    (0): Dropout(p=0.5, inplace=False)\n",
              "    (1): Linear(in_features=9216, out_features=4096, bias=True)\n",
              "    (2): ReLU(inplace=True)\n",
              "    (3): Dropout(p=0.5, inplace=False)\n",
              "    (4): Linear(in_features=4096, out_features=4096, bias=True)\n",
              "    (5): ReLU(inplace=True)\n",
              "  )\n",
              ")"
            ]
          },
          "metadata": {},
          "execution_count": 148
        }
      ]
    },
    {
      "cell_type": "code",
      "source": [
        "#Training the model with training data using fc7 layer\n",
        "#Optimizer\n",
        "optim = to.optim.SGD(alexnetFC7.parameters(), lr = 0.001, momentum = 0.9)\n",
        "#Loss\n",
        "criterion = to.nn.CrossEntropyLoss()\n",
        "\n",
        "trainOutput = []\n",
        "trainLabels = []\n",
        "runLoss = 0\n",
        "for i, data in enumerate(trainLoad, 0):\n",
        "    input, labels = data[0].to(device), data[1].to(device)\n",
        "\n",
        "    optim.zero_grad()\n",
        "\n",
        "    output = alexnetFC7(input)\n",
        "    trainOutput.append(output[0].detach().cpu().numpy())\n",
        "    trainLabels.append(labels[0].detach().cpu().numpy())\n",
        "    loss = criterion(output, labels)\n",
        "    loss.backward()\n",
        "    optim.step()\n",
        "        \n",
        "    runLoss += loss.item()\n",
        "    if i % 2000 == 1999:\n",
        "        print(f'[{1}, {i + 1:5d}] loss: {runLoss / 2000:.3f}')\n",
        "        runLoss = 0.0\n",
        "  \n",
        "#Validation data training\n",
        "correct = 0\n",
        "total = 0\n",
        "valOutput = []\n",
        "valLabels = []\n",
        "\n",
        "alexnetFC6.eval()\n",
        "with to.no_grad():\n",
        "  for data in valLoad:\n",
        "    image, label = data[0].to(device), data[1].to(device)\n",
        "\n",
        "    output = alexnetFC7(image)\n",
        "    valOutput.append(output[0].cpu().numpy())\n",
        "    valLabels.append(labels[0].cpu().numpy())\n",
        "\n",
        "    _, pred = to.max(output.data, 1)\n",
        "    total += label.size(0)\n",
        "    correct += (pred == label).sum().item()\n",
        "\n",
        "print(f'The accuracy of the model after training/validation is: {(correct / total) * 100} %')"
      ],
      "metadata": {
        "colab": {
          "base_uri": "https://localhost:8080/"
        },
        "id": "Ul1D6jMOc4Kr",
        "outputId": "24960765-acd5-4bb7-b353-d0b6830632f4"
      },
      "execution_count": 149,
      "outputs": [
        {
          "output_type": "stream",
          "name": "stdout",
          "text": [
            "[1,  2000] loss: 2.171\n",
            "[1,  4000] loss: 1.645\n",
            "[1,  6000] loss: 1.544\n",
            "[1,  8000] loss: 1.467\n",
            "[1, 10000] loss: 1.451\n",
            "The accuracy of the model after training/validation is: 71.50999999999999 %\n"
          ]
        }
      ]
    },
    {
      "cell_type": "code",
      "source": [
        "#Testing the model with the test data using fc7 layer\n",
        "correct = 0\n",
        "total = 0\n",
        "testOutput = []\n",
        "testLabels = []\n",
        "\n",
        "alexnetFC6.eval()\n",
        "with to.no_grad():\n",
        "  for data in testLoad:\n",
        "    image, label = data[0].to(device), data[1].to(device)\n",
        "\n",
        "    output = alexnetFC7(image)\n",
        "    testOutput.append(output[0].cpu().numpy())\n",
        "    testLabels.append(labels[0].cpu().numpy())\n",
        "\n",
        "    _, pred = to.max(output.data, 1)\n",
        "    total += label.size(0)\n",
        "    correct += (pred == label).sum().item()\n",
        "\n",
        "print(f'The accuracy of the model after testing is: {(correct / total) * 100} %')"
      ],
      "metadata": {
        "colab": {
          "base_uri": "https://localhost:8080/"
        },
        "id": "ztrllDwqc4XJ",
        "outputId": "c17f568c-9ae7-410d-e883-e80a65efe725"
      },
      "execution_count": 151,
      "outputs": [
        {
          "output_type": "stream",
          "name": "stdout",
          "text": [
            "The accuracy of the model after testing is: 71.72 %\n"
          ]
        }
      ]
    },
    {
      "cell_type": "code",
      "source": [
        "#Creating the Logistic Regression\n",
        "xtrain, xtest, ytrain, ytest = train_test_split((trainOutput + valOutput), (trainLabels + valLabels), test_size = 0.2, random_state = 0)\n",
        "logReg7 = LogisticRegression().fit(xtrain, ytrain)\n",
        "fc7Pred = logReg7.predict(xtest)\n",
        "\n",
        "#Printing Scores\n",
        "conFC7 = confusion_matrix(ytest, fc7Pred)\n",
        "sns.heatmap(conFC7, xticklabels = classes, yticklabels = classes)\n",
        "print(f'Accuracy Score (With all the train data): {logReg7.score(xtest, ytest)}')\n",
        "print(f'Accuracy Score (With all the test data): {logReg6.score(testOutput, testLabels)}')"
      ],
      "metadata": {
        "id": "TxF4xbWxdI2W",
        "colab": {
          "base_uri": "https://localhost:8080/",
          "height": 505
        },
        "outputId": "678ff8e2-7663-4cd8-fbb4-f0709adb74d5"
      },
      "execution_count": 152,
      "outputs": [
        {
          "output_type": "stream",
          "name": "stderr",
          "text": [
            "/usr/local/lib/python3.8/dist-packages/sklearn/linear_model/_logistic.py:814: ConvergenceWarning: lbfgs failed to converge (status=1):\n",
            "STOP: TOTAL NO. of ITERATIONS REACHED LIMIT.\n",
            "\n",
            "Increase the number of iterations (max_iter) or scale the data as shown in:\n",
            "    https://scikit-learn.org/stable/modules/preprocessing.html\n",
            "Please also refer to the documentation for alternative solver options:\n",
            "    https://scikit-learn.org/stable/modules/linear_model.html#logistic-regression\n",
            "  n_iter_i = _check_optimize_result(\n"
          ]
        },
        {
          "output_type": "stream",
          "name": "stdout",
          "text": [
            "Accuracy Score (With all the train data): 0.7408\n",
            "Accuracy Score (With all the test data): 0.0416\n"
          ]
        },
        {
          "output_type": "display_data",
          "data": {
            "text/plain": [
              "<Figure size 432x288 with 2 Axes>"
            ],
            "image/png": "[encoded data removed]"
          },
          "metadata": {
            "needs_background": "light"
          }
        }
      ]
    },
    {
      "cell_type": "markdown",
      "source": [
        "Compared to the model using the fc6 layer, the fc7 layer has a lower score overall in the training data with 0.7408 compared to to fc6's score of 0.7896.  On top of this, the test data score is significantly lower than the fc6's test data score.  This is most likely due to the fact that the features extracted from the fc6 layer are more compatible with the logistic regression and therefore produce an overall higher accuracy than the features extracted from the fc7 layer.  Furthering this point, we can see from the training and testing of the model that there is much more significant loss in the fc7 layer and that the accuracy of the model is slightly lower in general which most likely has an affect on the outcome of the logistic regression"
      ],
      "metadata": {
        "id": "UuZ5WjF1wLVO"
      }
    }
  ],
  "metadata": {
    "colab": {
      "provenance": []
    },
    "kernelspec": {
      "display_name": "Python 3",
      "name": "python3"
    },
    "language_info": {
      "name": "python"
    },
    "accelerator": "GPU",
    "gpuClass": "standard"
  },
  "nbformat": 4,
  "nbformat_minor": 0
}